{
  "nbformat": 4,
  "nbformat_minor": 0,
  "metadata": {
    "colab": {
      "provenance": [],
      "authorship_tag": "ABX9TyPh/Wq/5TCkCjbekUK6bKlE",
      "include_colab_link": true
    },
    "kernelspec": {
      "name": "python3",
      "display_name": "Python 3"
    },
    "language_info": {
      "name": "python"
    }
  },
  "cells": [
    {
      "cell_type": "markdown",
      "metadata": {
        "id": "view-in-github",
        "colab_type": "text"
      },
      "source": [
        "<a href=\"https://colab.research.google.com/github/Danjedricksison/CPE-0332.1-1---ELECTIVE-3-LABORATORY-/blob/main/Python_Fundamentals.ipynb\" target=\"_parent\"><img src=\"https://colab.research.google.com/assets/colab-badge.svg\" alt=\"Open In Colab\"/></a>"
      ]
    },
    {
      "cell_type": "code",
      "source": [
        "def main():\n",
        "    fullname = \"Dan Jedrick Sison\"\n",
        "    age = 23\n",
        "    course = \"Computer Engineering\"\n",
        "    section = \"4-irreg\"\n",
        "\n",
        "    print(\"Fullname:\", fullname)\n",
        "    print(\"Age:\", age, \"Years Old\")\n",
        "    print(\"Course:\", course)\n",
        "    print(\"Section:\", section)\n",
        "\n",
        "if __name__ == \"__main__\":\n",
        "    main()"
      ],
      "metadata": {
        "colab": {
          "base_uri": "https://localhost:8080/"
        },
        "id": "91llYBNE9Qyd",
        "outputId": "0f9f2038-51cf-42f0-9540-21aa238ddb56"
      },
      "execution_count": 12,
      "outputs": [
        {
          "output_type": "stream",
          "name": "stdout",
          "text": [
            "Fullname: Dan Jedrick Sison\n",
            "Age: 23 Years Old\n",
            "Course: Computer Engineering\n",
            "Section: 4-irreg\n"
          ]
        }
      ]
    }
  ]
}