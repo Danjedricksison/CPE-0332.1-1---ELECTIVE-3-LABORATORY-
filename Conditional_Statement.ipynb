{
  "nbformat": 4,
  "nbformat_minor": 0,
  "metadata": {
    "colab": {
      "provenance": [],
      "authorship_tag": "ABX9TyNBlNlenUkaIjD1UQc3cCRB",
      "include_colab_link": true
    },
    "kernelspec": {
      "name": "python3",
      "display_name": "Python 3"
    },
    "language_info": {
      "name": "python"
    }
  },
  "cells": [
    {
      "cell_type": "markdown",
      "metadata": {
        "id": "view-in-github",
        "colab_type": "text"
      },
      "source": [
        "<a href=\"https://colab.research.google.com/github/Danjedricksison/CPE-0332.1-1---ELECTIVE-3-LABORATORY-/blob/main/Conditional_Statement.ipynb\" target=\"_parent\"><img src=\"https://colab.research.google.com/assets/colab-badge.svg\" alt=\"Open In Colab\"/></a>"
      ]
    },
    {
      "cell_type": "markdown",
      "source": [
        "Example 1\n",
        "\n",
        "Write a program that determines if the input age is qualified to vote or not. The qualifying age is 18 years old and above.\n"
      ],
      "metadata": {
        "id": "cLosoJtdcv1R"
      }
    },
    {
      "cell_type": "code",
      "source": [
        "def check_voter_age(age):\n",
        "    if age >= 18:\n",
        "        print(\"You are eligible to vote!\")\n",
        "    else:\n",
        "        print(\"You are not old enough to vote yet.\")\n",
        "\n",
        "# Taking user input for age\n",
        "try:\n",
        "    age = int(input(\"Please enter your age: \"))\n",
        "    check_voter_age(age)\n",
        "except ValueError:\n",
        "    print(\"Invalid input. Please enter a valid age as a number.\")"
      ],
      "metadata": {
        "colab": {
          "base_uri": "https://localhost:8080/"
        },
        "id": "yGxOIYibc7aL",
        "outputId": "fb00d592-490b-4414-eb53-52f53f0ad7aa"
      },
      "execution_count": 2,
      "outputs": [
        {
          "output_type": "stream",
          "name": "stdout",
          "text": [
            "Please enter your age: 16\n",
            "You are not old enough to vote yet.\n"
          ]
        }
      ]
    },
    {
      "cell_type": "markdown",
      "source": [
        "Example 2\n",
        "\n",
        "Write a program that determines if the input number is POSITIVE, NEGATIVE, or ZERO"
      ],
      "metadata": {
        "id": "W9sfDNxxdUqw"
      }
    },
    {
      "cell_type": "code",
      "source": [
        "def check_number(num):\n",
        "    if num > 0:\n",
        "        print(\"Positive number\")\n",
        "    elif num < 0:\n",
        "        print(\"Negative number\")\n",
        "    else:\n",
        "        print(\"Zero\")\n",
        "\n",
        "# Taking user input for number\n",
        "try:\n",
        "    num = float(input(\"Enter a number: \"))  # Using float to handle decimal inputs as well\n",
        "    check_number(num)\n",
        "except ValueError:\n",
        "    print(\"Invalid input. Please enter a valid number.\")"
      ],
      "metadata": {
        "colab": {
          "base_uri": "https://localhost:8080/"
        },
        "id": "HDxfrb36dY_K",
        "outputId": "207ab437-7450-425a-f2fa-90e1d7dfe31f"
      },
      "execution_count": 5,
      "outputs": [
        {
          "output_type": "stream",
          "name": "stdout",
          "text": [
            "Enter a number: 0\n",
            "Zero\n"
          ]
        }
      ]
    },
    {
      "cell_type": "markdown",
      "source": [
        "Application 2\n",
        "\n",
        "Write a program to determine if the grades are:\n",
        "\n",
        "\tIf:\n",
        "\t\t grade > = 75 , “Passed”\n",
        "\t\tgrade = 74, “Remedial”\n",
        "\t\tgrade < 74, “Failed”\n",
        "\t\tnote: if grade is a negative number, it will not accepted"
      ],
      "metadata": {
        "id": "I1ksKG61dkKZ"
      }
    },
    {
      "cell_type": "code",
      "source": [
        "def check_grade(grade):\n",
        "    if grade >= 75:\n",
        "        print(\"Passed\")\n",
        "    elif grade == 74:\n",
        "        print(\"Remedial\")\n",
        "    elif grade < 0:\n",
        "        print(\"Grade cannot be negative. Please enter a valid grade.\")\n",
        "    else:\n",
        "        print(\"Failed\")\n",
        "\n",
        "# Taking user input for grade\n",
        "try:\n",
        "    grade = float(input(\"Enter your grade: \"))  # Using float to handle decimal inputs as well\n",
        "    if grade < 0:\n",
        "        print(\"Grade cannot be negative. Please enter a valid grade.\")\n",
        "    else:\n",
        "        check_grade(grade)\n",
        "except ValueError:\n",
        "    print(\"Invalid input. Please enter a valid number.\")"
      ],
      "metadata": {
        "colab": {
          "base_uri": "https://localhost:8080/"
        },
        "id": "aE8vnRc2drXw",
        "outputId": "3a4326f5-ac80-4a4d-ad6f-f663891a4427"
      },
      "execution_count": 9,
      "outputs": [
        {
          "output_type": "stream",
          "name": "stdout",
          "text": [
            "Enter your grade: -1\n",
            "Grade cannot be negative. Please enter a valid grade.\n"
          ]
        }
      ]
    }
  ]
}